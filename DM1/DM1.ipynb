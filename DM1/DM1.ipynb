{
 "metadata": {
  "language_info": {
   "codemirror_mode": {
    "name": "ipython",
    "version": 3
   },
   "file_extension": ".py",
   "mimetype": "text/x-python",
   "name": "python",
   "nbconvert_exporter": "python",
   "pygments_lexer": "ipython3",
   "version": "3.8.6-final"
  },
  "orig_nbformat": 2,
  "kernelspec": {
   "name": "python3",
   "display_name": "Python 3"
  }
 },
 "nbformat": 4,
 "nbformat_minor": 2,
 "cells": [
  {
   "source": [
    "# DM Estimation Linéaire 1"
   ],
   "cell_type": "markdown",
   "metadata": {}
  },
  {
   "source": [
    "## Imports"
   ],
   "cell_type": "markdown",
   "metadata": {}
  },
  {
   "cell_type": "code",
   "execution_count": 2,
   "metadata": {},
   "outputs": [],
   "source": [
    "import numpy as np"
   ]
  },
  {
   "source": [
    "## Mesures initiales"
   ],
   "cell_type": "markdown",
   "metadata": {}
  },
  {
   "cell_type": "code",
   "execution_count": 3,
   "metadata": {},
   "outputs": [],
   "source": [
    "a = 7.\n",
    "sigma_a = 2e-2\n",
    "c = 18.\n",
    "sigma_c = 5e-2\n",
    "beta = 59*np.pi/200\n",
    "sigma_beta = np.pi/2*1e-4"
   ]
  },
  {
   "source": [
    "## Question 2a"
   ],
   "cell_type": "markdown",
   "metadata": {}
  },
  {
   "cell_type": "code",
   "execution_count": 4,
   "metadata": {},
   "outputs": [
    {
     "output_type": "stream",
     "name": "stdout",
     "text": [
      "b: 14.889395663285908\nsigma_b: 0.04662537942866827\n"
     ]
    }
   ],
   "source": [
    "\n",
    "f = lambda a,c,beta : np.array( [ [a],\n",
    "                                    [c],\n",
    "                                    [beta],\n",
    "                                    [np.sqrt(a**2 + c**2 - 2*a*c*np.cos(beta))] ] )\n",
    "\n",
    "Kl = np.array([[sigma_a**2, 0,          0            ],\n",
    "                [0,          sigma_c**2, 0            ],\n",
    "                [0,          0,          sigma_beta**2]])\n",
    "\n",
    "F = lambda a,c,beta : np.vstack( ( np.identity(3),\n",
    "                                    np.array([[ 2*(a-c*np.cos(beta))/(2*np.sqrt(a**2 + c**2 - 2*a*c*np.cos(beta))),\n",
    "                                                2*(c-a*np.cos(beta))/(2*np.sqrt(a**2 + c**2 - 2*a*c*np.cos(beta))),\n",
    "                                                2*a*c*np.sin(beta)/(2*np.sqrt(a**2 + c**2 - 2*a*c*np.cos(beta)))]]) ) )\n",
    "\n",
    "Ky = F(a,c,beta) @ Kl @ F(a,c,beta).T\n",
    "\n",
    "b = float(f(a,c,beta)[-1])\n",
    "sigma_b = float(np.sqrt(Ky[-1,-1]))\n",
    "\n",
    "print('b:',b)\n",
    "print('sigma_b:',sigma_b)"
   ]
  },
  {
   "source": [
    "## Question 2b"
   ],
   "cell_type": "markdown",
   "metadata": {}
  },
  {
   "cell_type": "code",
   "execution_count": 5,
   "metadata": {},
   "outputs": [
    {
     "output_type": "stream",
     "name": "stdout",
     "text": [
      "gamma: 1.3122006136333213\nsigma_gamma: 0.0018196639267818665\n"
     ]
    }
   ],
   "source": [
    "sigma_b_c = Ky[3,1]\n",
    "sigma_b_beta = Ky[3,2]\n",
    "\n",
    "f = lambda b,c,beta : np.arcsin(c/b * np.sin(beta))\n",
    "\n",
    "Kl = np.array([ [sigma_b**2,      sigma_b_c, sigma_b_beta],\n",
    "                [sigma_b_c,    sigma_c**2,   0              ],\n",
    "                [sigma_b_beta, 0,            sigma_beta**2  ]])\n",
    "\n",
    "F = lambda b,c,beta : np.array([[ (-c/b**2)*np.sin(beta) / np.sqrt(1 - ( (c/b) * np.sin(beta) )**2),\n",
    "                                    np.sin(beta)/b / np.sqrt(1 - ( (c/b) * np.sin(beta) )**2),\n",
    "                                    c/b*np.cos(beta) / np.sqrt(1 - ( (c/b) * np.sin(beta) )**2)     ]])\n",
    "\n",
    "Kgamma = F(b,c,beta) @ Kl @ F(b,c,beta).T\n",
    "\n",
    "gamma = f(b,c,beta)\n",
    "sigma_gamma = float(np.sqrt(Kgamma))\n",
    "\n",
    "print('gamma:',gamma)\n",
    "print('sigma_gamma:',sigma_gamma)"
   ]
  },
  {
   "source": [
    "## Question 2c"
   ],
   "cell_type": "markdown",
   "metadata": {}
  },
  {
   "cell_type": "code",
   "execution_count": 8,
   "metadata": {},
   "outputs": [
    {
     "output_type": "stream",
     "name": "stdout",
     "text": [
      "gamma: 1.8293920399564714\nsigma_gamma: 0.0018196639267818676\n"
     ]
    }
   ],
   "source": [
    "sigma_a_b = Ky[3,0]\n",
    "\n",
    "f = lambda a,b,c : np.arccos( (a**2 + b**2 - c**2)/(2*a*b) ) \n",
    "\n",
    "Kl = np.array([ [sigma_a**2, sigma_a_b,  0          ],\n",
    "                [sigma_a_b,  sigma_b**2, sigma_b_c  ],\n",
    "                [0,          sigma_b_c,  sigma_c**2 ] ])\n",
    "\n",
    "F = lambda a,b,c : np.array([[ (a**2 - b**2 + c**2)/(2*a**2*b) / np.sqrt( 1 - ( (a**2 + b**2 - c**2)/(2*a*b) )**2 ),\n",
    "                               (b**2 - a**2 + c**2)/(2*a*b**2) / np.sqrt( 1 - ( (a**2 + b**2 - c**2)/(2*a*b) )**2 ),\n",
    "                               (-c)/(a*b) / np.sqrt( 1 - ( (a**2 + b**2 - c**2)/(2*a*b) )**2 )                          ]])\n",
    "\n",
    "Kgamma = F(a,b,c) @ Kl @ F(a,b,c).T\n",
    "\n",
    "gamma = f(a,b,c)\n",
    "sigma_gamma = float(np.sqrt(Kgamma))\n",
    "\n",
    "print('gamma:',gamma)\n",
    "print('sigma_gamma:',sigma_gamma)"
   ]
  }
 ]
}